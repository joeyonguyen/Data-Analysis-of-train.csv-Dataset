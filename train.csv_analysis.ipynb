{
 "cells": [
  {
   "cell_type": "markdown",
   "id": "9a5504ce-b1af-4095-aafc-9598197c9dfe",
   "metadata": {},
   "source": [
    "# Analysis of \"train.csv\" Dataset\n",
    "### Josephine Nguyen"
   ]
  },
  {
   "cell_type": "code",
   "execution_count": 11,
   "id": "0b19aa15-3194-4ae5-8907-276f743497f1",
   "metadata": {},
   "outputs": [],
   "source": [
    "import pandas as pd\n",
    "df = pd.read_csv('/Users/joeynguyen/Downloads/pydata-book-3rd-edition/DATA506/train.csv')"
   ]
  },
  {
   "cell_type": "markdown",
   "id": "c5bdbc27-0f2e-4b87-9887-ca53f81c98ef",
   "metadata": {},
   "source": [
    "### Relationship Between Class and Death Rate\n",
    "#### The majority of deaths occurred among 3rd class passengers, followed by 2nd and 1st class. There were also more passengers in 3rd class on the ship. Even after accounting for the number of passengers in each class, the survival rate was highest in 3rd class and lowest in 1st class. This suggests that class influenced a passenger's chance of survival.\n",
    "\n",
    "#### Passengers In Each Class:\n",
    "##### 3rd Class: 492\n",
    "##### 2nd Class: 184\n",
    "##### 1st Class: 217\n",
    "\n",
    "#### Passengers Who Did Not Survive In Each Class:\n",
    "##### 3rd Class: 270\n",
    "##### 2nd Class: 90\n",
    "##### 1st Class: 64\n",
    "\n",
    "#### Death Rate In Each Class:\n",
    "##### 3rd Class: 54.88%\n",
    "##### 2nd Class: 48.91%\n",
    "##### 1st Class: 29.49%\n"
   ]
  },
  {
   "cell_type": "code",
   "execution_count": 57,
   "id": "06e2e2b5-422e-4b35-8380-7ac3a2be3081",
   "metadata": {
    "scrolled": true
   },
   "outputs": [
    {
     "name": "stdout",
     "output_type": "stream",
     "text": [
      "\n",
      "3rd Class Passengers Who Did Not Survive\n",
      "Pclass  Age   Survived\n",
      "3       21.0  0           15\n",
      "        22.0  0           15\n",
      "        28.0  0           12\n",
      "        20.0  0           12\n",
      "        18.0  0           12\n",
      "                          ..\n",
      "        15.0  0            1\n",
      "        20.5  0            1\n",
      "        23.5  0            1\n",
      "        24.5  0            1\n",
      "        74.0  0            1\n",
      "Name: count, Length: 62, dtype: int64\n",
      "\n",
      "2nd Class Passengers Who Did Not Survive\n",
      "Pclass  Age   Survived\n",
      "2       23.0  0           6\n",
      "        30.0  0           5\n",
      "        25.0  0           5\n",
      "        34.0  0           5\n",
      "        18.0  0           4\n",
      "        24.0  0           4\n",
      "        36.0  0           4\n",
      "        27.0  0           4\n",
      "        28.0  0           4\n",
      "        31.0  0           3\n",
      "        54.0  0           3\n",
      "        39.0  0           3\n",
      "        29.0  0           3\n",
      "        21.0  0           3\n",
      "        19.0  0           3\n",
      "        42.0  0           2\n",
      "        32.0  0           2\n",
      "        52.0  0           2\n",
      "        44.0  0           2\n",
      "        35.0  0           2\n",
      "        26.0  0           2\n",
      "        57.0  0           2\n",
      "        16.0  0           2\n",
      "        66.0  0           1\n",
      "        59.0  0           1\n",
      "        60.0  0           1\n",
      "        50.0  0           1\n",
      "        51.0  0           1\n",
      "        36.5  0           1\n",
      "        48.0  0           1\n",
      "        47.0  0           1\n",
      "        46.0  0           1\n",
      "        43.0  0           1\n",
      "        38.0  0           1\n",
      "        37.0  0           1\n",
      "        33.0  0           1\n",
      "        32.5  0           1\n",
      "        70.0  0           1\n",
      "Name: count, dtype: int64\n",
      "\n",
      "2nd Class Passengers Who Did Not Survive\n",
      "Pclass  Age   Survived\n",
      "1       47.0  0           4\n",
      "        50.0  0           3\n",
      "        45.0  0           3\n",
      "        31.0  0           2\n",
      "        46.0  0           2\n",
      "        54.0  0           2\n",
      "        56.0  0           2\n",
      "        40.0  0           2\n",
      "        58.0  0           2\n",
      "        38.0  0           2\n",
      "        37.0  0           2\n",
      "        71.0  0           2\n",
      "        61.0  0           2\n",
      "        29.0  0           2\n",
      "        28.0  0           2\n",
      "        62.0  0           2\n",
      "        64.0  0           2\n",
      "        24.0  0           2\n",
      "        65.0  0           2\n",
      "        19.0  0           2\n",
      "        36.0  0           2\n",
      "        60.0  0           1\n",
      "        51.0  0           1\n",
      "        55.0  0           1\n",
      "        70.0  0           1\n",
      "        52.0  0           1\n",
      "        2.0   0           1\n",
      "        49.0  0           1\n",
      "        45.5  0           1\n",
      "        18.0  0           1\n",
      "        42.0  0           1\n",
      "        39.0  0           1\n",
      "        33.0  0           1\n",
      "        30.0  0           1\n",
      "        27.0  0           1\n",
      "        25.0  0           1\n",
      "        22.0  0           1\n",
      "        21.0  0           1\n",
      "        44.0  0           1\n",
      "Name: count, dtype: int64\n",
      "\n",
      "Passengers Who Did Not Survive In Each Class:\n",
      "3rd Class: 270\n",
      "2nd Class: 90\n",
      "1st Class: 64\n",
      "\n",
      "Death Rate In Each Class:\n",
      "3rd Class: 54.88%\n",
      "2nd Class: 48.91%\n",
      "1st Class: 29.49%\n"
     ]
    }
   ],
   "source": [
    "# Select data from at least 3 different columns including Pclass\n",
    "# Create dataframe with three different columns: 'Pclass', 'Age', 'Survived'\n",
    "pc = df[['Pclass', 'Age', 'Survived']]\n",
    "\n",
    "# Filter datadrame to only include rows where 'Pclass' = 3\n",
    "pc_3 = pc.loc[pc['Pclass'] == 3]\n",
    "\n",
    "print('\\n3rd Class Passengers Who Did Not Survive')\n",
    "pc_3_dead = pc_3.loc[pc_3['Survived'] == 0].value_counts()\n",
    "print(pc_3_dead)\n",
    "\n",
    "# Filter datadrame to only include rows where 'Pclass' = 2\n",
    "pc_2 = pc.loc[pc['Pclass'] == 2]\n",
    "\n",
    "print('\\n2nd Class Passengers Who Did Not Survive')\n",
    "pc_2_dead = pc_2.loc[pc_2['Survived'] == 0].value_counts()\n",
    "print(pc_2_dead)\n",
    "\n",
    "# Filter datadrame to only include rows where 'Pclass' = 1\n",
    "pc_1 = pc.loc[pc['Pclass'] == 1]\n",
    "\n",
    "print('\\n2nd Class Passengers Who Did Not Survive')\n",
    "pc_1_dead = pc_1.loc[pc_1['Survived'] == 0].value_counts()\n",
    "print(pc_1_dead)\n",
    "\n",
    "# Number of passengers who did not survive in each class\n",
    "print('\\nPassengers Who Did Not Survive In Each Class:')\n",
    "print(f\"3rd Class: {pc_3_dead.sum()}\")\n",
    "print(f\"2nd Class: {pc_2_dead.sum()}\")\n",
    "print(f\"1st Class: {pc_1_dead.sum()}\")\n",
    "\n",
    "# Death rate in each class\n",
    "# Get total passengers in each class using 'df.shape'\n",
    "print('\\nDeath Rate In Each Class:')\n",
    "print(f\"3rd Class: {pc_3_dead.sum() / 492:.2%}\")\n",
    "print(f\"2nd Class: {pc_2_dead.sum() / 184:.2%}\")\n",
    "print(f\"1st Class: {pc_1_dead.sum() / 217:.2%}\")"
   ]
  },
  {
   "cell_type": "markdown",
   "id": "a4bbc353-8d1f-4ac9-b63c-8a50ba64f4d4",
   "metadata": {},
   "source": [
    "### Correlation Between \"Survived\" and Other Columns ('Pclass', 'Age', 'SibSp', 'Parch', 'Fare'):\n",
    "##### Survived    1.000000\n",
    "##### Pclass     -0.338325\n",
    "##### Age        -0.077455\n",
    "##### SibSp      -0.035310\n",
    "##### Parch       0.083458\n",
    "##### Fare        0.046847\n",
    "######\n",
    "#### Conclusions:\n",
    "##### - As you move lower in class (1st to 3rd class), the chance of survival decreases.\n",
    "##### - There is a slight tendency for older passengers to survive less (almost negligible because the correlation is very weak).\n",
    "##### - Number of siblings/spouses aboard had almost no effect on survival.\n",
    "##### - Number of parents/children aboard slightly increased a passenger's chance of survival (almost negligible because the correlation is very weak).\n",
    "##### - Paying a higher fare slightly increased survival probability (almost negligible because the correlation is very weak)."
   ]
  },
  {
   "cell_type": "code",
   "execution_count": 64,
   "id": "9fca4d5f-0e7a-448d-9cfd-b76a9a615397",
   "metadata": {
    "scrolled": true
   },
   "outputs": [
    {
     "data": {
      "text/plain": [
       "Survived    1.000000\n",
       "Pclass     -0.338325\n",
       "Age        -0.077455\n",
       "SibSp      -0.035310\n",
       "Parch       0.083458\n",
       "Fare        0.046847\n",
       "Name: Survived, dtype: float64"
      ]
     },
     "execution_count": 64,
     "metadata": {},
     "output_type": "execute_result"
    }
   ],
   "source": [
    "# Compute correlation between columns\n",
    "# Create new dataframe to include only float data types\n",
    "corr_s = df[['Survived', 'Pclass', 'Age', 'SibSp', 'Parch', 'Fare']]\n",
    "# Find correlation between 'Survived' and other columns\n",
    "corr_s.corr()['Survived']"
   ]
  },
  {
   "cell_type": "markdown",
   "id": "c5df5505-efff-4333-8a00-b78d1e224157",
   "metadata": {},
   "source": [
    "### Where Passengers Embarked Based On Class\n",
    "#### 3rd Class passengers predominantly boarded at Southampton (354), with smaller numbers at Queenstown (72) and Cherbourg (66). 2nd Class passengers also mainly boarded at Southampton (164), while a few boarded at Cherbourg (17) and Queenstown (3). 1st Class passengers were more evenly distributed between Southampton (127) and Cherbourg (86), while only two passengers embarked from Queenstown. Overall, Southampton served as the primary port for all classes, while Cherbourg embarked higher-class passengers, and Queenstown embarked relatively few passengers across all classes. "
   ]
  },
  {
   "cell_type": "code",
   "execution_count": 98,
   "id": "90f9b839-ddd9-4468-be39-3a130269c791",
   "metadata": {
    "scrolled": true
   },
   "outputs": [
    {
     "name": "stdout",
     "output_type": "stream",
     "text": [
      "Where Passengers Embarked By Class\n",
      "Cherbourg (C), Queenstown (Q), Southampton (S)\n",
      "\n",
      "3rd Class: Embarked\n",
      "C     66\n",
      "Q     72\n",
      "S    354\n",
      "dtype: int64\n",
      "\n",
      "2nd Class: Embarked\n",
      "C     17\n",
      "Q      3\n",
      "S    164\n",
      "dtype: int64\n",
      "\n",
      "1st Class: Embarked\n",
      "C     86\n",
      "Q      2\n",
      "S    127\n",
      "dtype: int64\n"
     ]
    }
   ],
   "source": [
    "# Where Passengers Embarked Based On Pclass\n",
    "# Create dataframe that only includes 'Pclass' and 'Embarked' columns\n",
    "pclass_embarked = df[['Pclass', 'Embarked']]\n",
    "\n",
    "print('Where Passengers Embarked By Class' +\n",
    "     '\\nCherbourg (C), Queenstown (Q), Southampton (S)')\n",
    "\n",
    "# Filter datadrame to only include rows where 'Pclass' = 3\n",
    "pc_e_3 = pclass_embarked.loc[pclass_embarked['Pclass'] == 3]\n",
    "# Returns the number of passengers in 3rd class grouped by their embarkation port\n",
    "print(f\"\\n3rd Class: {pc_e_3.groupby('Embarked').size()}\")\n",
    "\n",
    "# Filter datadrame to only include rows where 'Pclass' = 2\n",
    "pc_e_2 = pclass_embarked.loc[pclass_embarked['Pclass'] == 2]\n",
    "# Returns the number of passengers in 2nd class grouped by their embarkation port\n",
    "print(f\"\\n2nd Class: {pc_e_2.groupby('Embarked').size()}\")\n",
    "\n",
    "# Filter datadrame to only include rows where 'Pclass' = 1\n",
    "pc_e_1 = pclass_embarked.loc[pclass_embarked['Pclass'] == 1]\n",
    "# Returns the number of passengers in 1st class grouped by their embarkation port\n",
    "print(f\"\\n1st Class: {pc_e_1.groupby('Embarked').size()}\")"
   ]
  },
  {
   "cell_type": "markdown",
   "id": "fa6ff42c-5e2b-4dde-8782-568968219a9a",
   "metadata": {},
   "source": [
    "### Survival by Age Group\n",
    "#### Children (0-12) had a higher likelihood of survival compared to other groups. Teenagers (13-18) and young adults (19-30) showed a more balanced distribution between survivors and non-survivors. Adults (31-50 experienced higher mortality than survival, and seniors (51-80) had the lowest survival rates. Overall, younger passengers had a better chance of survival compared to older passengers."
   ]
  },
  {
   "cell_type": "code",
   "execution_count": 113,
   "id": "7af7afd7-ac5e-46a6-91c9-3832a2a664d9",
   "metadata": {},
   "outputs": [
    {
     "data": {
      "text/plain": [
       "<Axes: title={'center': 'Survival by Age Group'}, xlabel='AgeGroup'>"
      ]
     },
     "execution_count": 113,
     "metadata": {},
     "output_type": "execute_result"
    },
    {
     "data": {
      "image/png": "[encoded data removed]",
      "text/plain": [
       "<Figure size 800x500 with 1 Axes>"
      ]
     },
     "metadata": {},
     "output_type": "display_data"
    }
   ],
   "source": [
    "# Survival by Age Group\n",
    "# Create copy of the dataframe excluding where 'Age' is missing\n",
    "age_survival = df.dropna(subset=['Age']).copy()\n",
    "\n",
    "# Define bins for age groups\n",
    "# 0-12: Child, 13-18: Teen, 19-30: Young Adult, 31-50: Adult, 51-80: Senior\n",
    "bins = [0, 12, 18, 30, 50, 80]\n",
    "labels = ['Child', 'Teen', 'Young Adult', 'Adult', 'Senior']\n",
    "\n",
    "# Create a new column 'AgeGroup' by categorizing 'Age' into the defined bins\n",
    "# pd.cut assigns each age to the appropriate label\n",
    "age_survival.loc[:,'AgeGroup'] = pd.cut(age_survival['Age'],bins=bins, labels=labels)\n",
    "\n",
    "# Group data by 'AgeGroup' and 'Survived'\n",
    "# Count number of passengers in each group\n",
    "# Unstack converts 'Survived' vlaues into seperate columns\n",
    "# fill_value = 0 replaces any missing counts with 0\n",
    "age_group_counts = age_survival.groupby(['AgeGroup', 'Survived'], observed=False).size().unstack(fill_value=0)\n",
    "# Rename column for clarity\n",
    "age_group_counts.columns = ['Did Not Survive', 'Survived']\n",
    "\n",
    "# Plot stacked bar chart\n",
    "age_group_counts.plot.bar(stacked=True, # plot stacked bar chart\n",
    "                          figsize=(8,5), # size of chart\n",
    "                          title='Survival by Age Group') # chart title"
   ]
  }
 ],
 "metadata": {
  "kernelspec": {
   "display_name": "Python [conda env:base] *",
   "language": "python",
   "name": "conda-base-py"
  },
  "language_info": {
   "codemirror_mode": {
    "name": "ipython",
    "version": 3
   },
   "file_extension": ".py",
   "mimetype": "text/x-python",
   "name": "python",
   "nbconvert_exporter": "python",
   "pygments_lexer": "ipython3",
   "version": "3.13.5"
  }
 },
 "nbformat": 4,
 "nbformat_minor": 5
}
